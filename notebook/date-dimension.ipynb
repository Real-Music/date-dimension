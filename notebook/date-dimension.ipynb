{
 "cells": [
  {
   "cell_type": "code",
   "execution_count": 95,
   "id": "90a267d1",
   "metadata": {},
   "outputs": [],
   "source": [
    "import pandas as pd"
   ]
  },
  {
   "cell_type": "code",
   "execution_count": 100,
   "id": "1fa95e3a",
   "metadata": {},
   "outputs": [],
   "source": [
    "names_of_days = ['Monday', 'Tuesday', 'Wednesday', 'Thursday', 'Friday', 'Saturday', 'Sunday']\n",
    "names_of_months = ['January', 'February', 'March', 'April', 'May', 'June', 'July', 'August', 'September', 'October', 'November', 'December']\n",
    "\n",
    "def create_date_dimension(start='2020-01-01', end='2030-12-31'):\n",
    "    start_ts = pd.to_datetime(start).date()\n",
    "\n",
    "    end_ts = pd.to_datetime(end).date()\n",
    "\n",
    "    dates =  pd.DataFrame(index=pd.date_range(start_ts, end_ts))\n",
    "    dates.index.name = 'full_date'\n",
    "\n",
    "    days_names = { i: i + 1 for i, name in enumerate(names_of_days)}\n",
    "    months_names = { i: name for i, name in enumerate(names_of_months)}\n",
    "    is_business_day = { i: True if i > 4 else False for i, name in enumerate(names_of_days)}\n",
    "\n",
    "    dates['date_full_name'] = dates.index.strftime('%B %d %Y')\n",
    "    dates['date_key'] = dates.index.strftime('%Y%m%d')\n",
    "    \n",
    "    dates['year'] = dates.index.year\n",
    "    dates['is_leap_year'] = dates.index.is_leap_year\n",
    "    \n",
    "    dates['month_number'] = dates.index.month\n",
    "    dates['month_name'] = dates.index.strftime('%B')\n",
    "    \n",
    "    dates['year_week'] = dates.index.isocalendar().week\n",
    "    dates['day_of_week'] = dates.index.dayofweek.map(days_names.get)\n",
    "    \n",
    "    dates['day_of_month'] = dates.index.day\n",
    "    dates['day_of_year'] = dates.index.dayofyear\n",
    "    \n",
    "    dates['day_name'] = dates.index.strftime('%A')\n",
    "    dates['is_working_day'] = dates['day_of_week'].apply(lambda day: True if day <= 5 else False)\n",
    "    \n",
    "    dates['quarter'] = dates.index.quarter\n",
    "    dates['Year_half'] = dates.index.month.map(lambda mth: 1 if mth < 7 else 2)\n",
    "     \n",
    "    dates.reset_index(inplace=True)\n",
    "    return dates"
   ]
  },
  {
   "cell_type": "code",
   "execution_count": 102,
   "id": "231ab51d",
   "metadata": {},
   "outputs": [],
   "source": [
    "df = create_date_dimension().tail()"
   ]
  },
  {
   "cell_type": "code",
   "execution_count": 104,
   "id": "8b0f9c3a",
   "metadata": {},
   "outputs": [
    {
     "data": {
      "text/plain": [
       "{4013: {'full_date': Timestamp('2030-12-27 00:00:00'),\n",
       "  'date_full_name': 'December 27 2030',\n",
       "  'date_key': '20301227',\n",
       "  'year': 2030,\n",
       "  'is_leap_year': False,\n",
       "  'month_number': 12,\n",
       "  'month_name': 'December',\n",
       "  'year_week': 52,\n",
       "  'day_of_week': 5,\n",
       "  'day_of_month': 27,\n",
       "  'day_of_year': 361,\n",
       "  'day_name': 'Friday',\n",
       "  'is_working_day': True,\n",
       "  'quarter': 4,\n",
       "  'Year_half': 2},\n",
       " 4014: {'full_date': Timestamp('2030-12-28 00:00:00'),\n",
       "  'date_full_name': 'December 28 2030',\n",
       "  'date_key': '20301228',\n",
       "  'year': 2030,\n",
       "  'is_leap_year': False,\n",
       "  'month_number': 12,\n",
       "  'month_name': 'December',\n",
       "  'year_week': 52,\n",
       "  'day_of_week': 6,\n",
       "  'day_of_month': 28,\n",
       "  'day_of_year': 362,\n",
       "  'day_name': 'Saturday',\n",
       "  'is_working_day': False,\n",
       "  'quarter': 4,\n",
       "  'Year_half': 2},\n",
       " 4015: {'full_date': Timestamp('2030-12-29 00:00:00'),\n",
       "  'date_full_name': 'December 29 2030',\n",
       "  'date_key': '20301229',\n",
       "  'year': 2030,\n",
       "  'is_leap_year': False,\n",
       "  'month_number': 12,\n",
       "  'month_name': 'December',\n",
       "  'year_week': 52,\n",
       "  'day_of_week': 7,\n",
       "  'day_of_month': 29,\n",
       "  'day_of_year': 363,\n",
       "  'day_name': 'Sunday',\n",
       "  'is_working_day': False,\n",
       "  'quarter': 4,\n",
       "  'Year_half': 2},\n",
       " 4016: {'full_date': Timestamp('2030-12-30 00:00:00'),\n",
       "  'date_full_name': 'December 30 2030',\n",
       "  'date_key': '20301230',\n",
       "  'year': 2030,\n",
       "  'is_leap_year': False,\n",
       "  'month_number': 12,\n",
       "  'month_name': 'December',\n",
       "  'year_week': 1,\n",
       "  'day_of_week': 1,\n",
       "  'day_of_month': 30,\n",
       "  'day_of_year': 364,\n",
       "  'day_name': 'Monday',\n",
       "  'is_working_day': True,\n",
       "  'quarter': 4,\n",
       "  'Year_half': 2},\n",
       " 4017: {'full_date': Timestamp('2030-12-31 00:00:00'),\n",
       "  'date_full_name': 'December 31 2030',\n",
       "  'date_key': '20301231',\n",
       "  'year': 2030,\n",
       "  'is_leap_year': False,\n",
       "  'month_number': 12,\n",
       "  'month_name': 'December',\n",
       "  'year_week': 1,\n",
       "  'day_of_week': 2,\n",
       "  'day_of_month': 31,\n",
       "  'day_of_year': 365,\n",
       "  'day_name': 'Tuesday',\n",
       "  'is_working_day': True,\n",
       "  'quarter': 4,\n",
       "  'Year_half': 2}}"
      ]
     },
     "execution_count": 104,
     "metadata": {},
     "output_type": "execute_result"
    }
   ],
   "source": [
    "df.T.to_dict()"
   ]
  },
  {
   "cell_type": "code",
   "execution_count": null,
   "id": "322ec0ad",
   "metadata": {},
   "outputs": [],
   "source": []
  }
 ],
 "metadata": {
  "kernelspec": {
   "display_name": "Python 3",
   "language": "python",
   "name": "python3"
  },
  "language_info": {
   "codemirror_mode": {
    "name": "ipython",
    "version": 3
   },
   "file_extension": ".py",
   "mimetype": "text/x-python",
   "name": "python",
   "nbconvert_exporter": "python",
   "pygments_lexer": "ipython3",
   "version": "3.8.8"
  }
 },
 "nbformat": 4,
 "nbformat_minor": 5
}
